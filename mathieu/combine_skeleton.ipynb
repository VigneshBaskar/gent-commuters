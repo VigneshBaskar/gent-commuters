{
 "cells": [
  {
   "cell_type": "code",
   "execution_count": null,
   "metadata": {},
   "outputs": [],
   "source": [
    "import magenta\n",
    "import magenta.music as mm\n",
    "root_filename = '../vicky/classical'\n",
    "melody_filename = root_filename + '_melody.mid'\n",
    "chords_filename = root_filename + '_chords.mid'\n",
    "drums_filename = 'performance_rnn_drums.midi'\n",
    "\n",
    "melody_seq = magenta.music.midi_file_to_melody(melody_filename).to_sequence()\n",
    "drums_seq = magenta.music.midi_file_to_drum_track(drums_filename).to_sequence()\n",
    "chords_seq = magenta.music.midi_file_to_melody(chords_filename).to_sequence()"
   ]
  },
  {
   "cell_type": "code",
   "execution_count": null,
   "metadata": {},
   "outputs": [],
   "source": [
    "def merge_sequences(s1, s2):\n",
    "    s3 = magenta.protobuf.music_pb2.NoteSequence()\n",
    "    s3.CopyFrom(s1)\n",
    "    s3.MergeFrom(s2)\n",
    "    return s3\n"
   ]
  },
  {
   "cell_type": "code",
   "execution_count": null,
   "metadata": {},
   "outputs": [],
   "source": [
    "total = merge_sequences(melody_seq, drums_seq)"
   ]
  },
  {
   "cell_type": "code",
   "execution_count": null,
   "metadata": {},
   "outputs": [],
   "source": [
    "mm.play_sequence(total, mm.midi_synth.fluidsynth)"
   ]
  },
  {
   "cell_type": "code",
   "execution_count": null,
   "metadata": {},
   "outputs": [],
   "source": []
  }
 ],
 "metadata": {
  "kernelspec": {
   "display_name": "Python 3",
   "language": "python",
   "name": "python3"
  },
  "language_info": {
   "codemirror_mode": {
    "name": "ipython",
    "version": 3
   },
   "file_extension": ".py",
   "mimetype": "text/x-python",
   "name": "python",
   "nbconvert_exporter": "python",
   "pygments_lexer": "ipython3",
   "version": "3.6.3"
  }
 },
 "nbformat": 4,
 "nbformat_minor": 2
}
