{
 "cells": [
  {
   "cell_type": "code",
   "execution_count": null,
   "metadata": {},
   "outputs": [],
   "source": [
    "import magenta\n",
    "import magenta.music as mm\n",
    "#root_filename = '../vicky/classical'\n",
    "root_filename = './funk_24'\n",
    "melody_filename = root_filename + '_melody.mid'\n",
    "chords_filename = root_filename + '_chords.mid'\n",
    "bass_filename = root_filename + '_bass.mid'\n",
    "drums_filename = '../Thomas/Notebooks/performance_rnn_drums.midi'\n",
    "\n",
    "melody_seq = magenta.music.midi_io.midi_file_to_sequence_proto(melody_filename)\n",
    "drums_seq = magenta.music.midi_io.midi_file_to_sequence_proto(drums_filename)\n",
    "chords_seq = magenta.music.midi_io.midi_file_to_sequence_proto(chords_filename)\n",
    "bass_seq = magenta.music.midi_io.midi_file_to_sequence_proto(bass_filename)"
   ]
  },
  {
   "cell_type": "code",
   "execution_count": null,
   "metadata": {},
   "outputs": [],
   "source": [
    "def merge_sequences(s1, s2):\n",
    "    s3 = magenta.protobuf.music_pb2.NoteSequence()\n",
    "    s3.CopyFrom(s1)\n",
    "    s3.MergeFrom(s2)\n",
    "    return s3\n"
   ]
  },
  {
   "cell_type": "code",
   "execution_count": null,
   "metadata": {},
   "outputs": [],
   "source": [
    "total = merge_sequences(merge_sequences(merge_sequences(melody_seq, drums_seq), chords_seq), bass_seq)"
   ]
  },
  {
   "cell_type": "code",
   "execution_count": null,
   "metadata": {},
   "outputs": [],
   "source": [
    "melody_wave = mm.midi_synth.fluidsynth(melody_seq,sample_rate=44100)\n",
    "drums_wave = mm.midi_synth.fluidsynth(drums_seq,sample_rate=44100)\n",
    "chords_wave = mm.midi_synth.fluidsynth(chords_seq,sample_rate=44100)\n",
    "bass_wave = mm.midi_synth.fluidsynth(bass_seq,sample_rate=44100)"
   ]
  },
  {
   "cell_type": "code",
   "execution_count": null,
   "metadata": {},
   "outputs": [],
   "source": [
    "#len(melody_wave), len(drums_wave), len(chords_wave)"
   ]
  },
  {
   "cell_type": "code",
   "execution_count": null,
   "metadata": {},
   "outputs": [],
   "source": [
    "total_wave = mm.midi_synth.fluidsynth(total, sample_rate=44100)"
   ]
  },
  {
   "cell_type": "code",
   "execution_count": null,
   "metadata": {},
   "outputs": [],
   "source": [
    "scipy.io.wavfile.write('total.wav', rate=44100, data=total_wave)\n",
    "subprocess.call(['lame','-h','total.wav','total.mp3'])\n",
    "IPython.display.Audio('total.mp3')"
   ]
  },
  {
   "cell_type": "code",
   "execution_count": null,
   "metadata": {},
   "outputs": [],
   "source": [
    "import scipy\n",
    "import subprocess\n",
    "import numpy as np\n",
    "import IPython"
   ]
  },
  {
   "cell_type": "code",
   "execution_count": null,
   "metadata": {},
   "outputs": [],
   "source": [
    "drums_wave = np.concatenate((drums_wave, np.zeros((len(melody_wave)- len(drums_wave),))), axis=0)"
   ]
  },
  {
   "cell_type": "code",
   "execution_count": null,
   "metadata": {},
   "outputs": [],
   "source": [
    "scipy.io.wavfile.write('total.wav', rate=44000, data=(melody_wave*4+chords_wave*.2+drums_wave+bass_wave)/4)\n",
    "subprocess.call(['lame','-h','total.wav','total.mp3'])\n",
    "IPython.display.Audio('total.mp3')"
   ]
  },
  {
   "cell_type": "code",
   "execution_count": null,
   "metadata": {},
   "outputs": [],
   "source": [
    "len(np.zeros((len(melody_wave)- len(drums_wave),)))"
   ]
  },
  {
   "cell_type": "code",
   "execution_count": null,
   "metadata": {},
   "outputs": [],
   "source": [
    "len(drums_seq)"
   ]
  },
  {
   "cell_type": "code",
   "execution_count": null,
   "metadata": {},
   "outputs": [],
   "source": []
  }
 ],
 "metadata": {
  "kernelspec": {
   "display_name": "Python 3",
   "language": "python",
   "name": "python3"
  },
  "language_info": {
   "codemirror_mode": {
    "name": "ipython",
    "version": 3
   },
   "file_extension": ".py",
   "mimetype": "text/x-python",
   "name": "python",
   "nbconvert_exporter": "python",
   "pygments_lexer": "ipython3",
   "version": "3.6.3"
  }
 },
 "nbformat": 4,
 "nbformat_minor": 2
}
