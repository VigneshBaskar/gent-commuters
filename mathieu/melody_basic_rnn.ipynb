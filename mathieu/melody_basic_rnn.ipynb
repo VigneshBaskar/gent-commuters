{
 "cells": [
  {
   "cell_type": "markdown",
   "metadata": {},
   "source": [
    "# melody basic rnn\n",
    "## Douglas Eck\n",
    "This notebook shows you how to generate new performed compositions from a trained Performance RNN model. You'll see how to download a bundle containing a pre-trained model, instantiate and initialize the model and generate new polyphonic performances. The notebook also shows some hyperparameters useful for controlling generation, such as ``temperature``.\n",
    "\n",
    "To hear the performances it is useful to have fluidsynth and pyfluidsynth installed. One way to install fluidsynth on OS X is via homebrew: ``brew install fluidsynth``.  One way to install pyfluidsynth is via pip: ``pip install pyfluidsynth``."
   ]
  },
  {
   "cell_type": "code",
   "execution_count": null,
   "metadata": {},
   "outputs": [],
   "source": [
    "import os\n",
    "from magenta.models.melody_rnn import melody_rnn_sequence_generator\n",
    "from magenta.protobuf import generator_pb2\n",
    "from magenta.protobuf import music_pb2\n",
    "\n",
    "import magenta.music as mm\n",
    "\n",
    "# Constants.\n",
    "BUNDLE_DIR = '/home/jovyan/models/'\n",
    "MODEL_NAME = 'lookback_rnn' # one of 'basic_rnn', 'attention_rnn', 'lookback_rnn'\n",
    "BUNDLE_NAME = 'lookback_rnn.mag'"
   ]
  },
  {
   "cell_type": "code",
   "execution_count": null,
   "metadata": {},
   "outputs": [],
   "source": [
    "mm.notebook_utils.download_bundle(BUNDLE_NAME, BUNDLE_DIR)\n",
    "bundle = mm.sequence_generator_bundle.read_bundle_file(os.path.join(BUNDLE_DIR, BUNDLE_NAME))"
   ]
  },
  {
   "cell_type": "code",
   "execution_count": null,
   "metadata": {},
   "outputs": [],
   "source": [
    "generator_map = melody_rnn_sequence_generator.get_generator_map()\n",
    "generator = generator_map[MODEL_NAME](checkpoint=None, bundle=bundle)"
   ]
  },
  {
   "cell_type": "code",
   "execution_count": null,
   "metadata": {},
   "outputs": [],
   "source": [
    "generator.initialize()"
   ]
  },
  {
   "cell_type": "code",
   "execution_count": null,
   "metadata": {},
   "outputs": [],
   "source": [
    "generator_options = generator_pb2.GeneratorOptions()\n",
    "generator_options.args['temperature'].float_value = .9  # Higher is more random; 1.0 is default. \n",
    "generate_section = generator_options.generate_sections.add(start_time=0, end_time=30)\n",
    "sequence = generator.generate(music_pb2.NoteSequence(), generator_options)\n",
    "\n",
    "# Play and view this masterpiece.\n",
    "mm.plot_sequence(sequence)\n",
    "mm.play_sequence(sequence, mm.midi_synth.fluidsynth)"
   ]
  },
  {
   "cell_type": "code",
   "execution_count": null,
   "metadata": {},
   "outputs": [],
   "source": [
    "qpm = 160\n",
    "\n",
    "generator.initialize()\n",
    "generator_options = generator_pb2.GeneratorOptions()\n",
    "generator_options.args['temperature'].float_value = .9  # Higher is more random; 1.0 is default. \n",
    "generator_options.args['qpm'].float_value = qpm\n",
    "\n",
    "seconds_per_step = 120.0 / qpm / generator.steps_per_quarter\n",
    "total_seconds = 64 * seconds_per_step\n",
    "last_end_time = 0\n",
    "\n",
    "generate_section = generator_options.generate_sections.add(start_time=last_end_time + seconds_per_step,\n",
    "    end_time=total_seconds)\n",
    "sequence = generator.generate(music_pb2.NoteSequence(), generator_options)"
   ]
  },
  {
   "cell_type": "code",
   "execution_count": null,
   "metadata": {},
   "outputs": [],
   "source": [
    "generator_options.args['temperature'].float_value = 1.1  # Higher is more random; 1.0 is default. \n",
    "#sequence = generator.generate(music_pb2.NoteSequence(), generator_options)\n",
    "#mm.plot_sequence(sequence)\n",
    "#generate_section = generator_options.generate_sections.add(start_time=0, end_time=30)\n",
    "mm.play_sequence(sequence, mm.midi_synth.fluidsynth)"
   ]
  },
  {
   "cell_type": "code",
   "execution_count": null,
   "metadata": {},
   "outputs": [],
   "source": [
    "from magenta.music.midi_io import sequence_proto_to_pretty_midi, sequence_proto_to_midi_file, midi_file_to_sequence_proto"
   ]
  },
  {
   "cell_type": "code",
   "execution_count": null,
   "metadata": {},
   "outputs": [],
   "source": [
    "sequences = []\n",
    "for i in range(16):\n",
    "    temperature = [.6,.8,.9,1.8,.6,.8,.9,1.8][i % 8]\n",
    "    generator_options.args['temperature'].float_value = temperature\n",
    "    sequence = generator.generate(music_pb2.NoteSequence(), generator_options)\n",
    "    sequences.append(sequence)\n",
    "    pm = sequence_proto_to_pretty_midi(sequence)"
   ]
  },
  {
   "cell_type": "code",
   "execution_count": null,
   "metadata": {},
   "outputs": [],
   "source": [
    "from magenta.music.sequences_lib import concatenate_sequences, quantize_note_sequence"
   ]
  },
  {
   "cell_type": "code",
   "execution_count": null,
   "metadata": {},
   "outputs": [],
   "source": [
    "big_seq = concatenate_sequences(sequences)"
   ]
  },
  {
   "cell_type": "code",
   "execution_count": null,
   "metadata": {},
   "outputs": [],
   "source": [
    "mm.play_sequence(big_seq, mm.midi_synth.fluidsynth)"
   ]
  },
  {
   "cell_type": "code",
   "execution_count": null,
   "metadata": {},
   "outputs": [],
   "source": [
    "mm.play_sequence(quantized_melody, mm.midi_synth.fluidsynth)"
   ]
  },
  {
   "cell_type": "code",
   "execution_count": null,
   "metadata": {},
   "outputs": [],
   "source": [
    "sequence_proto_to_midi_file(big_seq, 'lookback_rnn.mid')"
   ]
  },
  {
   "cell_type": "code",
   "execution_count": null,
   "metadata": {},
   "outputs": [],
   "source": [
    "with open('lookback_rnn.sequence','wb') as f:\n",
    "    f.write(big_seq.SerializeToString())"
   ]
  },
  {
   "cell_type": "code",
   "execution_count": null,
   "metadata": {},
   "outputs": [],
   "source": [
    "from magenta.music.chord_inference import infer_chords_for_sequence"
   ]
  },
  {
   "cell_type": "code",
   "execution_count": null,
   "metadata": {},
   "outputs": [],
   "source": [
    "root_filename = './dance_4'\n",
    "root_filename = './dance_5'\n",
    "root_filename = './funk_18'\n",
    "root_filename = './funk_19'\n",
    "root_filename = './funk_24'\n",
    "melody_filename = root_filename + '_melody.mid'\n",
    "chords_filename = root_filename + '_chords.mid'\n",
    "bass_filename = root_filename + '_bass.mid'\n",
    "melody = midi_file_to_sequence_proto(melody_filename)"
   ]
  },
  {
   "cell_type": "code",
   "execution_count": null,
   "metadata": {},
   "outputs": [],
   "source": [
    "mm.play_sequence(melody, mm.midi_synth.fluidsynth)"
   ]
  },
  {
   "cell_type": "code",
   "execution_count": null,
   "metadata": {},
   "outputs": [],
   "source": [
    "quantized_melody = quantize_note_sequence(melody, 8)\n",
    "infer_chords_for_sequence(quantized_melody)"
   ]
  },
  {
   "cell_type": "code",
   "execution_count": null,
   "metadata": {},
   "outputs": [],
   "source": [
    "from magenta.music.chords_lib import extract_chords\n",
    "from magenta.music.chord_symbols_lib import chord_symbol_bass, chord_symbol_pitches, chord_symbol_root\n",
    "from magenta.music.chords_encoder_decoder import encoder_decoder\n",
    "from magenta.music.chords_lib import BasicChordRenderer"
   ]
  },
  {
   "cell_type": "code",
   "execution_count": null,
   "metadata": {},
   "outputs": [],
   "source": [
    "#(chord_progression,), d = extract_chords(quantized_melody)"
   ]
  },
  {
   "cell_type": "code",
   "execution_count": null,
   "metadata": {},
   "outputs": [],
   "source": [
    "#chord_seq = chord_progression.to_sequence()"
   ]
  },
  {
   "cell_type": "code",
   "execution_count": null,
   "metadata": {},
   "outputs": [],
   "source": [
    "#[(chord,chord_symbol_pitches(chord)) for chord in chord_progression] "
   ]
  },
  {
   "cell_type": "code",
   "execution_count": null,
   "metadata": {},
   "outputs": [],
   "source": [
    "#chords = extract_chords(quantized_melody)[0][0].to_sequence()"
   ]
  },
  {
   "cell_type": "code",
   "execution_count": null,
   "metadata": {},
   "outputs": [],
   "source": [
    "#chords"
   ]
  },
  {
   "cell_type": "code",
   "execution_count": null,
   "metadata": {},
   "outputs": [],
   "source": [
    "chord_renderer = BasicChordRenderer(program=63)\n",
    "chord_renderer.render(quantized_melody)"
   ]
  },
  {
   "cell_type": "code",
   "execution_count": null,
   "metadata": {},
   "outputs": [],
   "source": [
    "import magenta\n",
    "chords = magenta.protobuf.music_pb2.NoteSequence()\n",
    "chords.CopyFrom(quantized_melody)\n",
    "bass = magenta.protobuf.music_pb2.NoteSequence()\n",
    "bass.CopyFrom(quantized_melody)\n",
    "notes_to_delete_from_chords = []\n",
    "notes_to_delete_from_bass = []\n",
    "idx = 0\n",
    "for n in quantized_melody.notes:\n",
    "    if n.program!=63:\n",
    "        notes_to_delete_from_chords.append(n)\n",
    "        notes_to_delete_from_bass.append(n)\n",
    "    else:\n",
    "        if n.pitch <= 47:\n",
    "            notes_to_delete_from_chords.append(n)\n",
    "        else:\n",
    "            notes_to_delete_from_bass.append(n)\n",
    "for n in notes_to_delete_from_chords:\n",
    "    chords.notes.remove(n)\n",
    "for n in notes_to_delete_from_bass:\n",
    "    bass.notes.remove(n)\n",
    "for n in bass.notes:\n",
    "    n.program = 37\n"
   ]
  },
  {
   "cell_type": "code",
   "execution_count": null,
   "metadata": {},
   "outputs": [],
   "source": [
    "sequence_proto_to_midi_file(chords, chords_filename)\n",
    "sequence_proto_to_midi_file(bass, bass_filename)"
   ]
  },
  {
   "cell_type": "code",
   "execution_count": null,
   "metadata": {},
   "outputs": [],
   "source": [
    "#bass_notes = magenta.protobuf.music_pb2.NoteSequence()\n",
    "#bass_notes.CopyFrom(chords)\n",
    "#notes_to_delete = []\n",
    "#for idx, n in enumerate(s.notes):\n",
    "#    if idx % 4 == 0:\n",
    "#        bass_notes.notes.remove(n)#notes_to_delete.append(n)\n",
    "#for n in notes_to_delete:\n",
    "#    bass_notes.notes.remove(n)"
   ]
  },
  {
   "cell_type": "code",
   "execution_count": null,
   "metadata": {},
   "outputs": [],
   "source": [
    "#mm.play_sequence(s, mm.midi_synth.fluidsynth)"
   ]
  },
  {
   "cell_type": "code",
   "execution_count": null,
   "metadata": {},
   "outputs": [],
   "source": [
    "mm.play_sequence(bass, mm.midi_synth.fluidsynth)"
   ]
  },
  {
   "cell_type": "code",
   "execution_count": null,
   "metadata": {},
   "outputs": [],
   "source": [
    "#sequence_proto_to_midi_file(quantized_melody, 'output_with_chords.mid')"
   ]
  },
  {
   "cell_type": "markdown",
   "metadata": {},
   "source": [
    "# Experimental stuff"
   ]
  },
  {
   "cell_type": "code",
   "execution_count": null,
   "metadata": {},
   "outputs": [],
   "source": [
    "#from magenta.music.sequences_lib import split_note_sequence"
   ]
  },
  {
   "cell_type": "code",
   "execution_count": null,
   "metadata": {},
   "outputs": [],
   "source": [
    "sequences = split_note_sequence(melody, 30)"
   ]
  },
  {
   "cell_type": "code",
   "execution_count": null,
   "metadata": {},
   "outputs": [],
   "source": [
    "for sequence in sequences:\n",
    "    mm.play_sequence(sequence, mm.midi_synth.fluidsynth)"
   ]
  },
  {
   "cell_type": "code",
   "execution_count": null,
   "metadata": {},
   "outputs": [],
   "source": [
    "input_sequence = sequences[0]"
   ]
  },
  {
   "cell_type": "code",
   "execution_count": null,
   "metadata": {},
   "outputs": [],
   "source": [
    "def adjust_sequence_times(sequence, delta_time):\n",
    "    \"\"\"Adjusts note and total NoteSequence times by `delta_time`.\"\"\"\n",
    "    retimed_sequence = music_pb2.NoteSequence()\n",
    "    retimed_sequence.CopyFrom(sequence)\n",
    "\n",
    "    for note in retimed_sequence.notes:\n",
    "    note.start_time += delta_time\n",
    "    note.end_time += delta_time\n",
    "    retimed_sequence.total_time += delta_time\n",
    "    return retimed_sequence"
   ]
  },
  {
   "cell_type": "code",
   "execution_count": null,
   "metadata": {},
   "outputs": [],
   "source": [
    "generator_options = generator_pb2.GeneratorOptions()\n",
    "generator_options.input_sections.add(\n",
    "    start_time=0,\n",
    "    end_time=30)\n",
    "generator_options.generate_sections.add(\n",
    "    start_time=30,\n",
    "    end_time=60)\n",
    "\n",
    "# Get current temperature setting.\n",
    "generator_options.args['temperature'].float_value = 0.6\n",
    "\n",
    "# Generate response.\n",
    "response_sequence = generator.generate(input_sequence, generator_options)\n",
    "response_sequence = magenta.music.trim_note_sequence(\n",
    "    adjust_sequence_times(response_sequence, -30), 0, 30)"
   ]
  },
  {
   "cell_type": "code",
   "execution_count": null,
   "metadata": {},
   "outputs": [],
   "source": [
    "#from magenta.music\n",
    "import magenta"
   ]
  },
  {
   "cell_type": "code",
   "execution_count": null,
   "metadata": {},
   "outputs": [],
   "source": [
    "#mm.play_sequence(response_sequence, mm.midi_synth.fluidsynth)"
   ]
  },
  {
   "cell_type": "code",
   "execution_count": null,
   "metadata": {},
   "outputs": [],
   "source": [
    "response_sequence.MergeFrom(input_sequence)"
   ]
  },
  {
   "cell_type": "code",
   "execution_count": null,
   "metadata": {},
   "outputs": [],
   "source": [
    "mm.play_sequence(response_sequence, mm.midi_synth.fluidsynth)"
   ]
  },
  {
   "cell_type": "code",
   "execution_count": null,
   "metadata": {},
   "outputs": [],
   "source": []
  }
 ],
 "metadata": {
  "anaconda-cloud": {},
  "celltoolbar": "Raw Cell Format",
  "kernelspec": {
   "display_name": "Python 3",
   "language": "python",
   "name": "python3"
  },
  "language_info": {
   "codemirror_mode": {
    "name": "ipython",
    "version": 3
   },
   "file_extension": ".py",
   "mimetype": "text/x-python",
   "name": "python",
   "nbconvert_exporter": "python",
   "pygments_lexer": "ipython3",
   "version": "3.6.3"
  }
 },
 "nbformat": 4,
 "nbformat_minor": 2
}
