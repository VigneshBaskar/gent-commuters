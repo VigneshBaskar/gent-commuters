{
 "cells": [
  {
   "cell_type": "code",
   "execution_count": null,
   "metadata": {},
   "outputs": [],
   "source": [
    "import warnings\n",
    "warnings.filterwarnings('ignore')\n",
    "from scripts.TrainingDataPreparation import get_notes, prepare_sequences, create_network, train\n",
    "import glob\n",
    "import numpy as np\n",
    "from music21 import converter, instrument, note, chord\n",
    "import tensorflow as tf"
   ]
  },
  {
   "cell_type": "code",
   "execution_count": null,
   "metadata": {},
   "outputs": [],
   "source": [
    "midi_directory = 'test_midi_songs'\n",
    "notes = get_notes(midi_directory)\n",
    "n_vocab = len(set(notes))\n",
    "sequence_length = 100\n",
    "network_input, network_output = prepare_sequences(notes, n_vocab, sequence_length)"
   ]
  },
  {
   "cell_type": "code",
   "execution_count": null,
   "metadata": {},
   "outputs": [],
   "source": [
    "model = create_network(network_input, n_vocab, device_name='/gpu:0', dropout_rate=0.3)\n",
    "model.compile(loss='categorical_crossentropy', optimizer='rmsprop')\n",
    "train(model, network_input, network_output, n_epochs=10, batch_size=512, filename='mehdi_songs')"
   ]
  }
 ],
 "metadata": {
  "kernelspec": {
   "display_name": "music",
   "language": "python",
   "name": "music"
  },
  "language_info": {
   "codemirror_mode": {
    "name": "ipython",
    "version": 3
   },
   "file_extension": ".py",
   "mimetype": "text/x-python",
   "name": "python",
   "nbconvert_exporter": "python",
   "pygments_lexer": "ipython3",
   "version": "3.5.2"
  }
 },
 "nbformat": 4,
 "nbformat_minor": 2
}
