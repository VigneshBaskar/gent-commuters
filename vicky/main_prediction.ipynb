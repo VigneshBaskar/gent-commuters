{
 "cells": [
  {
   "cell_type": "code",
   "execution_count": null,
   "metadata": {},
   "outputs": [],
   "source": [
    "import warnings\n",
    "import os\n",
    "warnings.filterwarnings('ignore')\n",
    "import pickle\n",
    "import numpy as np\n",
    "from scripts.TrainingDataPreparation import prepare_sequences, create_network\n",
    "from scripts.Prediction import generate_notes, create_midi"
   ]
  },
  {
   "cell_type": "code",
   "execution_count": null,
   "metadata": {
    "collapsed": true
   },
   "outputs": [],
   "source": [
    "with open('data/notes', 'rb') as filepath:\n",
    "    notes = pickle.load(filepath)\n",
    "\n",
    "pitchnames = sorted(set(item for item in notes))\n",
    "n_vocab = len(set(notes))\n"
   ]
  },
  {
   "cell_type": "code",
   "execution_count": null,
   "metadata": {
    "collapsed": true
   },
   "outputs": [],
   "source": [
    "sequence_length = 100\n",
    "network_input, network_output = prepare_sequences(notes, n_vocab, sequence_length)"
   ]
  },
  {
   "cell_type": "code",
   "execution_count": null,
   "metadata": {},
   "outputs": [],
   "source": [
    "model = create_network(network_input, n_vocab, device_name='/gpu:1', dropout_rate=0.3)\n",
    "model.load_weights(os.path.join('Models','mehdi_songs-07-4.1176-bigger.hdf5'))\n"
   ]
  },
  {
   "cell_type": "code",
   "execution_count": null,
   "metadata": {},
   "outputs": [],
   "source": [
    "prediction_output = generate_notes(model, network_input, pitchnames, n_vocab)\n",
    "output_midi_fname = 'test_out_midi'\n",
    "create_midi(prediction_output, output_midi_fname)"
   ]
  }
 ],
 "metadata": {
  "kernelspec": {
   "display_name": "music",
   "language": "python",
   "name": "music"
  },
  "language_info": {
   "codemirror_mode": {
    "name": "ipython",
    "version": 3
   },
   "file_extension": ".py",
   "mimetype": "text/x-python",
   "name": "python",
   "nbconvert_exporter": "python",
   "pygments_lexer": "ipython3",
   "version": "3.5.2"
  }
 },
 "nbformat": 4,
 "nbformat_minor": 2
}
