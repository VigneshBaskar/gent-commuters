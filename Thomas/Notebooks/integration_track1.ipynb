{
 "cells": [
  {
   "cell_type": "code",
   "execution_count": 2,
   "metadata": {},
   "outputs": [],
   "source": [
    "import sys\n",
    "sys.path.append(\"../../\")\n",
    "from utils import *"
   ]
  },
  {
   "cell_type": "code",
   "execution_count": 3,
   "metadata": {},
   "outputs": [],
   "source": [
    "bpm = 130.0 # beat per minute\n",
    "beat_per_bar = 8\n",
    "bar_per_emphasis = 2\n",
    "\n",
    "noise_buildup = True\n",
    "n_bars_buildup = 8\n",
    "\n",
    "progression = [\n",
    "    {\"part\":\"intro\", \"duration\": 4 , \"tracks\":[(\"base\", \"no\") , (\"chords\", \"no\") , (\"drums1\", \"no\") , (\"drums2\", \"no\") , (\"melody1\", \"yes\"), (\"melody2\", \"no\") ]},\n",
    "    {\"part\":\"verse\", \"duration\": 12, \"tracks\":[(\"base\", \"yes\"), (\"chords\", \"yes\"), (\"drums1\", \"yes\"), (\"drums2\", \"no\") , (\"melody1\", \"yes\"), (\"melody2\", \"no\") ]},\n",
    "    {\"part\":\"pause\", \"duration\": 4,  \"tracks\":[(\"base\", \"yes\"), (\"chords\", \"no\") , (\"drums1\", \"no\") , (\"drums2\", \"no\") , (\"melody1\", \"no\") , (\"melody2\", \"no\") ]},\n",
    "    {\"part\":\"verse\", \"duration\": 12, \"tracks\":[(\"base\", \"yes\"), (\"chords\", \"yes\"), (\"drums1\", \"yes\"), (\"drums2\", \"yes\"), (\"melody1\", \"yes\"), (\"melody2\", \"yes\")]}\n",
    "]"
   ]
  },
  {
   "cell_type": "code",
   "execution_count": null,
   "metadata": {},
   "outputs": [],
   "source": []
  }
 ],
 "metadata": {
  "kernelspec": {
   "display_name": "Python 3",
   "language": "python",
   "name": "python3"
  },
  "language_info": {
   "codemirror_mode": {
    "name": "ipython",
    "version": 3
   },
   "file_extension": ".py",
   "mimetype": "text/x-python",
   "name": "python",
   "nbconvert_exporter": "python",
   "pygments_lexer": "ipython3",
   "version": "3.6.3"
  }
 },
 "nbformat": 4,
 "nbformat_minor": 2
}
