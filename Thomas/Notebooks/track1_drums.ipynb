{
 "cells": [
  {
   "cell_type": "code",
   "execution_count": 67,
   "metadata": {},
   "outputs": [
    {
     "name": "stdout",
     "output_type": "stream",
     "text": [
      "The autoreload extension is already loaded. To reload it, use:\n",
      "  %reload_ext autoreload\n"
     ]
    }
   ],
   "source": [
    "%load_ext autoreload\n",
    "%autoreload 2\n",
    "import sys\n",
    "sys.path.append(\"../../\")\n",
    "from utils import *"
   ]
  },
  {
   "cell_type": "code",
   "execution_count": 69,
   "metadata": {},
   "outputs": [
    {
     "name": "stdout",
     "output_type": "stream",
     "text": [
      "handling {'part': 'intro', 'buildup': 1.0, 'duration': 4, 'tracks': [('base', 'no'), ('chords', 'no'), ('drums1', 'no'), ('drums2', 'no'), ('melody1', 'yes'), ('melody2', 'no')]}\n",
      "handling {'part': 'verse', 'buildup': 1.0, 'duration': 12, 'tracks': [('base', 'yes'), ('chords', 'yes'), ('drums1', 'yes'), ('drums2', 'no'), ('melody1', 'yes'), ('melody2', 'no')]}\n",
      "handling {'part': 'pause', 'buildup': 1.0, 'duration': 4, 'tracks': [('base', 'yes'), ('chords', 'no'), ('drums1', 'no'), ('drums2', 'no'), ('melody1', 'no'), ('melody2', 'no')]}\n",
      "handling {'part': 'verse', 'buildup': 1.0, 'duration': 12, 'tracks': [('base', 'yes'), ('chords', 'yes'), ('drums1', 'yes'), ('drums2', 'yes'), ('melody1', 'yes'), ('melody2', 'yes')]}\n",
      "handling {'part': 'verse', 'buildup': 1.0, 'duration': 6, 'tracks': [('base', 'yes'), ('chords', 'yes'), ('drums1', 'yes'), ('drums2', 'yes'), ('melody1', 'yes'), ('melody2', 'yes')]}\n",
      "handling {'part': 'verse', 'buildup': 0.3, 'duration': 6, 'tracks': [('base', 'yes'), ('chords', 'yes'), ('drums1', 'yes'), ('drums2', 'no'), ('melody1', 'yes'), ('melody2', 'no')]}\n"
     ]
    }
   ],
   "source": [
    "import track1\n",
    "\n",
    "backbone = generate_backbone(bpm,beat_per_bar,bar_per_emphasis, n_bars_buildup, progression)"
   ]
  },
  {
   "cell_type": "code",
   "execution_count": 70,
   "metadata": {},
   "outputs": [],
   "source": [
    "drum_generator_1 = produce_drum_generator()\n",
    "drum_generator_2 = produce_drum_generator()"
   ]
  },
  {
   "cell_type": "code",
   "execution_count": null,
   "metadata": {},
   "outputs": [
    {
     "name": "stdout",
     "output_type": "stream",
     "text": [
      "duration = 3.6923076923076925\n",
      "duration = 7.384615384615385\n",
      "duration = 11.076923076923077\n",
      "duration = 14.76923076923077\n",
      "Using primer[(35,), (), (42,), (), (35,), (), (42,), ()]\n",
      "WARNING:tensorflow:The saved meta_graph is possibly from an older release:\n",
      "'model_variables' collection should be of type 'byte_list', but instead is of type 'node_list'.\n",
      "INFO:tensorflow:Restoring parameters from /tmp/tmpyulw1ssd/model.ckpt\n",
      "INFO:tensorflow:Beam search yields sequence with log-likelihood: -12.830133 \n",
      "number of notes (drum_seq1) = 14\n",
      "duration = 18.461538461538463\n",
      "Using primer[(35,), (), (42,), (), (35,), (), (42,), ()]\n",
      "INFO:tensorflow:Beam search yields sequence with log-likelihood: -12.830133 \n",
      "number of notes (drum_seq1) = 28\n",
      "duration = 22.153846153846157\n",
      "Using primer[(35,), (), (42,), (), (35,), (), (42,), ()]\n",
      "INFO:tensorflow:Beam search yields sequence with log-likelihood: -12.830133 \n",
      "number of notes (drum_seq1) = 42\n",
      "duration = 25.84615384615385\n",
      "Using primer[(35,), (), (42,), (), (35,), (), (42,), ()]\n",
      "INFO:tensorflow:Beam search yields sequence with log-likelihood: -12.830133 \n",
      "number of notes (drum_seq1) = 56\n",
      "duration = 29.538461538461544\n",
      "Using primer[(35,), (), (42,), (), (35,), (), (42,), ()]\n"
     ]
    }
   ],
   "source": [
    "first_drum_1 = True\n",
    "first_drum_2 = True\n",
    "\n",
    "\n",
    "current_length = 0.0\n",
    "\n",
    "for b in backbone:\n",
    "    \n",
    "    ###############\n",
    "    #\n",
    "    # Drums\n",
    "    #\n",
    "    \n",
    "    t =  (1 - b['buildup_factor']) + b['buildup_factor']**2 * 2\n",
    "    \n",
    "    clonk = 49 if b[\"final_bar\"] else 42\n",
    "    \n",
    "    nsteps = beat_per_bar * steps_per_beat \n",
    "    beams = 128\n",
    "\n",
    "    ########\n",
    "    # Drum 1\n",
    "    #\n",
    "    if b[\"drums1\"] == 1.0:\n",
    "        if first_drum_1:\n",
    "            drum_seq = generate_one_bar_sequence(generator=drum_generator_1, qpm=bpm, temp=t, number_of_steps=nsteps, beam_size=beams,\n",
    "                                                 primer = [(35,),(),(42,),(),(35,),(),(clonk,),()])\n",
    "            \n",
    "            retimed = music_pb2.NoteSequence()\n",
    "            retimed.CopyFrom(drum_seq)\n",
    "\n",
    "            for note in retimed.notes:\n",
    "                note.start_time += current_length\n",
    "                note.end_time += current_length\n",
    "                retimed.total_time += current_length\n",
    "                \n",
    "            full_drum_seq1 = retimed\n",
    "            \n",
    "            first_drum_1 = False\n",
    "            \n",
    "            print(\"number of notes (drum_seq1) = \" + str(len(full_drum_seq1.notes)))\n",
    "            \n",
    "        else:\n",
    "            drum_seq = generate_one_bar_sequence(generator=drum_generator_1, qpm=bpm, temp=t, number_of_steps=nsteps, beam_size=beams,\n",
    "                                                 primer = [(35,),(),(42,),(),(35,),(),(clonk,),()])\n",
    "            full_drum_seq1 = adjust_sequence_times_and_merge(full_drum_seq1,drum_seq,current_length)\n",
    "            print(\"number of notes (drum_seq1) = \" + str(len(full_drum_seq1.notes)))\n",
    "        \n",
    "\n",
    "            \n",
    "    ########\n",
    "    # Drum 2\n",
    "    #    \n",
    "    if b[\"drums2\"] == 1.0:\n",
    "        if first_drum_2:\n",
    "            drum_seq = generate_one_bar_sequence(generator=drum_generator_2, qpm=bpm, temp=t, number_of_steps=nsteps, beam_size=beams,\n",
    "                                                 primer = [(46,),(42,),(46,42,),(42,),(46,),(42,),(46,clonk,),(42,)])\n",
    "            \n",
    "            retimed = music_pb2.NoteSequence()\n",
    "            retimed.CopyFrom(drum_seq)\n",
    "\n",
    "            for note in retimed.notes:\n",
    "                note.start_time += current_length\n",
    "                note.end_time += current_length\n",
    "                retimed.total_time += current_length\n",
    "                \n",
    "            full_drum_seq2 = retimed\n",
    "            \n",
    "            first_drum_2 = False\n",
    "            \n",
    "            print(\"number of notes (drum_seq2) = \" + str(len(full_drum_seq2.notes)))\n",
    "            \n",
    "        else:\n",
    "            drum_seq = generate_one_bar_sequence(generator=drum_generator_2, qpm=bpm, temp=t, number_of_steps=nsteps, beam_size=beams,\n",
    "                                                 primer = [(46,),(42,),(46,42,),(42,),(46,),(42,),(46,clonk,),(42,)])\n",
    "            full_drum_seq2 = adjust_sequence_times_and_merge(full_drum_seq2,drum_seq,current_length)\n",
    "            print(\"number of notes (drum_seq2) = \" + str(len(full_drum_seq2.notes)))\n",
    "            \n",
    "    current_length += compute_time(bpm,nsteps,steps_per_beat)\n",
    "    print(\"duration = \" + str(current_length))\n",
    "\n",
    "        \n",
    "    ###############\n",
    "    #\n",
    "    # Tune\n",
    "    #\n",
    "    \n",
    "    \n",
    "    \n",
    "#########################\n",
    "########################\n",
    "    \n",
    "full_drum_seq1.MergeFrom(full_drum_seq2)\n",
    "\n",
    "full_drum_seq = full_drum_seq1\n",
    "\n",
    "with open(\"pickled_track1_drums\", \"wb\") as f:\n",
    "    pickle.dump(sequence_proto_to_pretty_midi(full_drum_seq),file=f)"
   ]
  },
  {
   "cell_type": "code",
   "execution_count": null,
   "metadata": {},
   "outputs": [],
   "source": [
    "mm.play_sequence(full_drum_seq, mm.midi_synth.fluidsynth)"
   ]
  },
  {
   "cell_type": "code",
   "execution_count": null,
   "metadata": {},
   "outputs": [],
   "source": []
  },
  {
   "cell_type": "code",
   "execution_count": null,
   "metadata": {},
   "outputs": [],
   "source": []
  },
  {
   "cell_type": "code",
   "execution_count": null,
   "metadata": {},
   "outputs": [],
   "source": []
  },
  {
   "cell_type": "code",
   "execution_count": 46,
   "metadata": {},
   "outputs": [
    {
     "data": {
      "text/plain": [
       "352"
      ]
     },
     "execution_count": 46,
     "metadata": {},
     "output_type": "execute_result"
    }
   ],
   "source": [
    "len(full_drum_seq.notes)"
   ]
  },
  {
   "cell_type": "code",
   "execution_count": 35,
   "metadata": {},
   "outputs": [
    {
     "data": {
      "text/html": [
       "<div>\n",
       "<table border=\"1\" class=\"dataframe\">\n",
       "  <thead>\n",
       "    <tr style=\"text-align: right;\">\n",
       "      <th></th>\n",
       "      <th>&lt;google.protobuf.pyext._message.FieldDescriptor object at 0x7f6d3c5398f0&gt;</th>\n",
       "      <th>&lt;google.protobuf.pyext._message.FieldDescriptor object at 0x7f6d3c6b4c50&gt;</th>\n",
       "      <th>&lt;google.protobuf.pyext._message.FieldDescriptor object at 0x7f6d3c7a5ad0&gt;</th>\n",
       "      <th>&lt;google.protobuf.pyext._message.FieldDescriptor object at 0x7f6d3c7a5570&gt;</th>\n",
       "      <th>&lt;google.protobuf.pyext._message.FieldDescriptor object at 0x7f6d3c7a5530&gt;</th>\n",
       "      <th>&lt;google.protobuf.pyext._message.FieldDescriptor object at 0x7f6d3c4c85b0&gt;</th>\n",
       "    </tr>\n",
       "  </thead>\n",
       "  <tbody>\n",
       "    <tr>\n",
       "      <th>0</th>\n",
       "      <td>35</td>\n",
       "      <td>100</td>\n",
       "      <td>0.115385</td>\n",
       "      <td>9</td>\n",
       "      <td>True</td>\n",
       "      <td>NaN</td>\n",
       "    </tr>\n",
       "    <tr>\n",
       "      <th>1</th>\n",
       "      <td>49</td>\n",
       "      <td>100</td>\n",
       "      <td>0.346154</td>\n",
       "      <td>9</td>\n",
       "      <td>True</td>\n",
       "      <td>0.230769</td>\n",
       "    </tr>\n",
       "    <tr>\n",
       "      <th>2</th>\n",
       "      <td>38</td>\n",
       "      <td>100</td>\n",
       "      <td>58.730769</td>\n",
       "      <td>9</td>\n",
       "      <td>True</td>\n",
       "      <td>58.615385</td>\n",
       "    </tr>\n",
       "    <tr>\n",
       "      <th>3</th>\n",
       "      <td>38</td>\n",
       "      <td>100</td>\n",
       "      <td>58.846154</td>\n",
       "      <td>9</td>\n",
       "      <td>True</td>\n",
       "      <td>58.730769</td>\n",
       "    </tr>\n",
       "    <tr>\n",
       "      <th>4</th>\n",
       "      <td>38</td>\n",
       "      <td>100</td>\n",
       "      <td>58.961538</td>\n",
       "      <td>9</td>\n",
       "      <td>True</td>\n",
       "      <td>58.846154</td>\n",
       "    </tr>\n",
       "    <tr>\n",
       "      <th>5</th>\n",
       "      <td>38</td>\n",
       "      <td>100</td>\n",
       "      <td>59.076923</td>\n",
       "      <td>9</td>\n",
       "      <td>True</td>\n",
       "      <td>58.961538</td>\n",
       "    </tr>\n",
       "  </tbody>\n",
       "</table>\n",
       "</div>"
      ],
      "text/plain": [
       "   <google.protobuf.pyext._message.FieldDescriptor object at 0x7f6d3c5398f0>  \\\n",
       "0                                                 35                           \n",
       "1                                                 49                           \n",
       "2                                                 38                           \n",
       "3                                                 38                           \n",
       "4                                                 38                           \n",
       "5                                                 38                           \n",
       "\n",
       "   <google.protobuf.pyext._message.FieldDescriptor object at 0x7f6d3c6b4c50>  \\\n",
       "0                                                100                           \n",
       "1                                                100                           \n",
       "2                                                100                           \n",
       "3                                                100                           \n",
       "4                                                100                           \n",
       "5                                                100                           \n",
       "\n",
       "   <google.protobuf.pyext._message.FieldDescriptor object at 0x7f6d3c7a5ad0>  \\\n",
       "0                                           0.115385                           \n",
       "1                                           0.346154                           \n",
       "2                                          58.730769                           \n",
       "3                                          58.846154                           \n",
       "4                                          58.961538                           \n",
       "5                                          59.076923                           \n",
       "\n",
       "   <google.protobuf.pyext._message.FieldDescriptor object at 0x7f6d3c7a5570>  \\\n",
       "0                                                  9                           \n",
       "1                                                  9                           \n",
       "2                                                  9                           \n",
       "3                                                  9                           \n",
       "4                                                  9                           \n",
       "5                                                  9                           \n",
       "\n",
       "  <google.protobuf.pyext._message.FieldDescriptor object at 0x7f6d3c7a5530>  \\\n",
       "0                                               True                          \n",
       "1                                               True                          \n",
       "2                                               True                          \n",
       "3                                               True                          \n",
       "4                                               True                          \n",
       "5                                               True                          \n",
       "\n",
       "   <google.protobuf.pyext._message.FieldDescriptor object at 0x7f6d3c4c85b0>  \n",
       "0                                                NaN                          \n",
       "1                                           0.230769                          \n",
       "2                                          58.615385                          \n",
       "3                                          58.730769                          \n",
       "4                                          58.846154                          \n",
       "5                                          58.961538                          "
      ]
     },
     "execution_count": 35,
     "metadata": {},
     "output_type": "execute_result"
    }
   ],
   "source": [
    "pd.DataFrame.from_records([dict(n.ListFields()) for n in list(full_drum_seq.notes)])"
   ]
  },
  {
   "cell_type": "code",
   "execution_count": null,
   "metadata": {},
   "outputs": [],
   "source": []
  }
 ],
 "metadata": {
  "kernelspec": {
   "display_name": "Python 3",
   "language": "python",
   "name": "python3"
  },
  "language_info": {
   "codemirror_mode": {
    "name": "ipython",
    "version": 3
   },
   "file_extension": ".py",
   "mimetype": "text/x-python",
   "name": "python",
   "nbconvert_exporter": "python",
   "pygments_lexer": "ipython3",
   "version": "3.6.3"
  }
 },
 "nbformat": 4,
 "nbformat_minor": 2
}
