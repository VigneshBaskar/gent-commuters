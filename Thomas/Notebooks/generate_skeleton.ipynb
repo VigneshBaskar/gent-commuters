{
 "cells": [
  {
   "cell_type": "markdown",
   "metadata": {},
   "source": [
    "from comments in https://subaqueousmusic.com/dubstep-and-electronic-music-song-structure/"
   ]
  },
  {
   "cell_type": "raw",
   "metadata": {},
   "source": [
    "1-32 = intro (keep it simple, and easy to fallow rhythmically so dj’s will want to match it up in the heat of a mix, or while performing) \n",
    "33-64 = bass and drums – main meat of the tune \n",
    "65-96 = add something (like a pad or slight change in bassline, some congas, or a arp synth) keep it rollin \n",
    "97-112 = break (take out most) (put your little voice sample in here, and a riser or a buildup take out the drums maybe the bass too.) \n",
    "113-160 = All in (bass, drums, pads) – climax of the tune.. \n",
    "161-176 = subtract something (take out the congas, or the synthy arp thing) \n",
    "177-208 = outro (take out more stuff, get minimal here) \n",
    "209 = ending (a little sound, or a delay echoing off into the distance, or your little voice thing you used in the break.)"
   ]
  },
  {
   "cell_type": "raw",
   "metadata": {},
   "source": [
    "1-8 = intro (keep it simple, and easy to fallow rhythmically so dj’s will want to match it up in the heat of a mix, or while performing)\n",
    "9-16 = bass and drums – main meat of the tune\n",
    "17-23 = add something (like a pad or slight change in bassline, some congas, or a arp synth) keep it rollin\n",
    "24-28 = break (take out most) (put your little voice sample in here, and a riser or a buildup take out the drums maybe the bass too.)\n",
    "29-40 = All in (bass, drums, pads) – climax of the tune..\n",
    "41-44 = subtract something (take out the congas, or the synthy arp thing)\n",
    "45-52 = outro (take out more stuff, get minimal here)\n",
    "53 = ending (a little sound, or a delay echoing off into the distance, or your little voice thing you used in the break.)"
   ]
  },
  {
   "cell_type": "raw",
   "metadata": {},
   "source": [
    "For EDM music, 90% of the time this is how a, track is broken down, in laymen terms(…numbers = bars not beats…).\n",
    "(“Main 1”, “Build-Up 1”, etc are equivalent to the chores, melody, etc. just different names)\n",
    "1-4 – start your intro for main 1\n",
    "5-8 – continue your intro for main 1 with very little change\n",
    "9-12 – add a bass line to Main 1\n",
    "13-16 repeat Main 1 and introduce Build-up 1\n",
    "17-20 Build up 1 should be taking over Main 1 almost cutting out Main 1 completely\n",
    "21-24 Cut Build up 1 and if anything is left from Main 1 and intro Drop 1\n",
    "25-28 slight change to the Drop 1\n",
    "29-32 Intro Break-Down 1\n",
    "33-36 Break-Down 1 should be taking over Drop 1\n",
    "37-41 Cut Out Break-Down 1 and Drop 1, Into Out 1\n",
    "42-45 repeat with no changes, or major changes (its your track, do what ever you want)"
   ]
  },
  {
   "cell_type": "markdown",
   "metadata": {},
   "source": [
    "from https://www.reddit.com/r/edmproduction/comments/21fi99/what_is_the_typical_structure_of_a_house_song_or/"
   ]
  },
  {
   "cell_type": "raw",
   "metadata": {},
   "source": [
    "32 bar intro\n",
    "24 bar breakdown/melody is introduced\n",
    "8 bar buildup\n",
    "16 bar drop\n",
    "24 bar breakdown/melody is introduced\n",
    "8 bar buildup\n",
    "32 bar drop\n",
    "32 bar outro"
   ]
  },
  {
   "cell_type": "raw",
   "metadata": {},
   "source": [
    "4-8 bar intro > 16bar verse > 8 bar build > 8 bar drop > 8 bar bridge > 16 bar verse2 >8 bar build > 8 bar drop2 > 8 bar bridge > 4 bar buildup > 8 bar drop3 > 8 bar outro . thats would make to a 3-4min track"
   ]
  },
  {
   "cell_type": "code",
   "execution_count": 64,
   "metadata": {},
   "outputs": [],
   "source": [
    "import sys\n",
    "sys.path.append(\"../../\")\n",
    "from utils import *"
   ]
  },
  {
   "cell_type": "code",
   "execution_count": 61,
   "metadata": {},
   "outputs": [],
   "source": [
    "bpm = 130.0 # beat per minute\n",
    "beat_per_bar = 8\n",
    "bar_per_emphasis = 2\n",
    "\n",
    "noise_buildup = True\n",
    "n_bars_buildup = 8\n",
    "\n",
    "progression = [\n",
    "    {\"part\":\"intro\", \"duration\": 4 , \"tracks\":[(\"base\", \"no\") , (\"chords\", \"no\") , (\"drums1\", \"no\") , (\"drums2\", \"no\") , (\"melody1\", \"yes\"), (\"melody2\", \"no\") ]},\n",
    "    {\"part\":\"verse\", \"duration\": 12, \"tracks\":[(\"base\", \"yes\"), (\"chords\", \"yes\"), (\"drums1\", \"yes\"), (\"drums2\", \"no\") , (\"melody1\", \"yes\"), (\"melody2\", \"no\") ]},\n",
    "    {\"part\":\"pause\", \"duration\": 4,  \"tracks\":[(\"base\", \"yes\"), (\"chords\", \"no\") , (\"drums1\", \"no\") , (\"drums2\", \"no\") , (\"melody1\", \"no\") , (\"melody2\", \"no\") ]},\n",
    "    {\"part\":\"verse\", \"duration\": 12, \"tracks\":[(\"base\", \"yes\"), (\"chords\", \"yes\"), (\"drums1\", \"yes\"), (\"drums2\", \"yes\"), (\"melody1\", \"yes\"), (\"melody2\", \"yes\")]}\n",
    "]"
   ]
  },
  {
   "cell_type": "code",
   "execution_count": 62,
   "metadata": {},
   "outputs": [],
   "source": [
    "backbone = generate_backbone(bpm,beat_per_bar,bar_per_emphasis, noise_buildup, n_bars_buildup, progression)"
   ]
  },
  {
   "cell_type": "code",
   "execution_count": 63,
   "metadata": {},
   "outputs": [
    {
     "data": {
      "text/html": [
       "<div>\n",
       "<table border=\"1\" class=\"dataframe\">\n",
       "  <thead>\n",
       "    <tr style=\"text-align: right;\">\n",
       "      <th></th>\n",
       "    </tr>\n",
       "  </thead>\n",
       "  <tbody>\n",
       "  </tbody>\n",
       "</table>\n",
       "</div>"
      ],
      "text/plain": [
       "Empty DataFrame\n",
       "Columns: []\n",
       "Index: []"
      ]
     },
     "execution_count": 63,
     "metadata": {},
     "output_type": "execute_result"
    }
   ],
   "source": [
    "import pandas as pd\n",
    "pd.DataFrame(backbone)"
   ]
  },
  {
   "cell_type": "code",
   "execution_count": null,
   "metadata": {},
   "outputs": [],
   "source": []
  }
 ],
 "metadata": {
  "kernelspec": {
   "display_name": "Python 3",
   "language": "python",
   "name": "python3"
  },
  "language_info": {
   "codemirror_mode": {
    "name": "ipython",
    "version": 3
   },
   "file_extension": ".py",
   "mimetype": "text/x-python",
   "name": "python",
   "nbconvert_exporter": "python",
   "pygments_lexer": "ipython3",
   "version": "3.6.3"
  }
 },
 "nbformat": 4,
 "nbformat_minor": 2
}
